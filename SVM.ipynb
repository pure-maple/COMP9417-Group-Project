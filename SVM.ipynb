{
 "cells": [
  {
   "cell_type": "code",
   "execution_count": 2,
   "metadata": {},
   "outputs": [
    {
     "name": "stdout",
     "output_type": "stream",
     "text": [
      "              precision    recall  f1-score   support\n",
      "\n",
      "           0       0.70      0.86      0.77       138\n",
      "           1       0.38      0.19      0.26        62\n",
      "\n",
      "    accuracy                           0.65       200\n",
      "   macro avg       0.54      0.52      0.51       200\n",
      "weighted avg       0.60      0.65      0.61       200\n",
      "\n"
     ]
    },
    {
     "name": "stderr",
     "output_type": "stream",
     "text": [
      "c:\\Users\\29848\\anaconda3\\envs\\COMP9417\\lib\\site-packages\\sklearn\\impute\\_base.py:555: UserWarning: Skipping features without any observed values: [51]. At least one non-missing value is needed for imputation with strategy='most_frequent'.\n",
      "  warnings.warn(\n",
      "c:\\Users\\29848\\anaconda3\\envs\\COMP9417\\lib\\site-packages\\sklearn\\impute\\_base.py:555: UserWarning: Skipping features without any observed values: [51]. At least one non-missing value is needed for imputation with strategy='most_frequent'.\n",
      "  warnings.warn(\n"
     ]
    }
   ],
   "source": [
    "import numpy as np\n",
    "from sklearn.model_selection import train_test_split\n",
    "from sklearn.preprocessing import StandardScaler, OneHotEncoder\n",
    "from sklearn.compose import ColumnTransformer\n",
    "from sklearn.svm import SVC\n",
    "from sklearn.pipeline import Pipeline\n",
    "from sklearn.metrics import classification_report\n",
    "from sklearn.impute import SimpleImputer\n",
    "\n",
    "# 加载数据\n",
    "X = np.load('./data_set/X_train.npy')\n",
    "Y = np.load('./data_set/y_train.npy')\n",
    "\n",
    "# 分割数据集\n",
    "X_train, X_test, Y_train, Y_test = train_test_split(X, Y, test_size=0.2, random_state=42)\n",
    "\n",
    "Y_train = Y_train[:, 0]\n",
    "Y_test = Y_test[:, 0]\n",
    "\n",
    "# 定义特征索引\n",
    "binary_features = [8, 11, 13, 14, 15, 17, 19, 20, 22, 24, 25, 26, 27, 28, 29, 30, 38, 39, 40, 41, 42, 47, 48, 49, 50, 52, 53, 54, 55, 56, 57, 58, 59, 60, 62, 63, 64, 65, 67, 68, 69, 70, 71, 72, 73, 74, 75, 76, 78, 79, 81, 87, 94, 95, 96, 97, 105, 106, 107, 108, 109, 110]\n",
    "categorical_features = [1, 2, 3, 4, 7, 9, 10, 37, 43, 44, 45, 46, 82, 84, 91, 92, 93, 98, 99, 100, 101, 102, 103, 104]\n",
    "continuous_features = [0, 34, 35, 36, 83, 85, 88, 89, 90]\n",
    "\n",
    "# 过滤掉一元特征\n",
    "unary_features = [5, 6, 12, 16, 18, 21, 23, 31, 51, 61, 66, 77, 80, 86, 32, 33]\n",
    "binary_features = [f for f in binary_features if f not in unary_features]\n",
    "categorical_features = [f for f in categorical_features if f not in unary_features]\n",
    "continuous_features = [f for f in continuous_features if f not in unary_features]\n",
    "\n",
    "\n",
    "# 创建预处理管道\n",
    "preprocessor = ColumnTransformer(\n",
    "    transformers=[\n",
    "        ('bin', SimpleImputer(strategy='most_frequent'), binary_features),\n",
    "        ('cat', Pipeline([\n",
    "            ('imputer', SimpleImputer(strategy='most_frequent')),\n",
    "            ('encoder', OneHotEncoder(handle_unknown='ignore'))\n",
    "        ]), categorical_features),\n",
    "        ('num', Pipeline([\n",
    "            ('imputer', SimpleImputer(strategy='mean')),\n",
    "            ('scaler', StandardScaler())\n",
    "        ]), continuous_features)\n",
    "    ]\n",
    ")\n",
    "\n",
    "# 创建SVM模型管道\n",
    "svm_pipeline = Pipeline([\n",
    "    ('preprocessor', preprocessor),\n",
    "    ('classifier', SVC(kernel='linear'))\n",
    "])\n",
    "\n",
    "# 训练模型\n",
    "svm_pipeline.fit(X_train, Y_train)\n",
    "\n",
    "# 评估模型\n",
    "Y_pred = svm_pipeline.predict(X_test)\n",
    "print(classification_report(Y_test, Y_pred))\n"
   ]
  }
 ],
 "metadata": {
  "kernelspec": {
   "display_name": "COMP9417",
   "language": "python",
   "name": "python3"
  },
  "language_info": {
   "codemirror_mode": {
    "name": "ipython",
    "version": 3
   },
   "file_extension": ".py",
   "mimetype": "text/x-python",
   "name": "python",
   "nbconvert_exporter": "python",
   "pygments_lexer": "ipython3",
   "version": "3.8.18"
  }
 },
 "nbformat": 4,
 "nbformat_minor": 2
}
