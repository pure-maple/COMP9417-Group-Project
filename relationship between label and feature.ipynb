{
 "cells": [
  {
   "cell_type": "code",
   "execution_count": null,
   "id": "db02dae2-273b-41dc-9dcc-67c945f3c884",
   "metadata": {},
   "outputs": [],
   "source": [
    "from sklearn.feature_selection import mutual_info_classif\n",
    "import numpy as np\n",
    "\n",
    "# Assuming you have x_data (100 observations, 10 features) and y_data (100 observations, 11 labels)\n",
    "# Replace this with your actual data\n",
    "\n",
    "# Generate sample data (replace this with your actual data)\n",
    "#np.random.seed(0)\n",
    "#x_data = np.random.randn(100, 10)  # 100 observations, 10 features\n",
    "#y_data = np.random.randint(0, 2, size=(100, 11))  # 100 observations, 11 labels (binary for simplicity)\n",
    "\n",
    "x_data = np.load('X_train_preprocessed_type_50.npy')\n",
    "y_data = np.load('y_train.npy') \n",
    "\n",
    "# Initialize a list to store scores for each label\n",
    "label_scores = []\n",
    "\n",
    "# Loop through each label in y_data\n",
    "for i in range(y_data.shape[1]):\n",
    "    # Perform feature selection using mutual_info_classif for the current label\n",
    "    scores = mutual_info_classif(x_data, y_data[:, i]) ##再确认下这个score的算法是否正确\n",
    "\n",
    "    # Create a dictionary to store feature scores\n",
    "    feature_scores = {f\"Feature_{j+1}\": score for j, score in enumerate(scores)}\n",
    "\n",
    "    # Sort feature scores in descending order\n",
    "    sorted_scores = sorted(feature_scores.items(), key=lambda x: x[1], reverse=True)\n",
    "\n",
    "    # Append sorted scores to the list\n",
    "    label_scores.append(sorted_scores)\n",
    "\n",
    "# Print the sorted scores for each label\n",
    "for i, scores in enumerate(label_scores):\n",
    "    print(f\"Scores for label {i+1}:\")\n",
    "    for feature, score in scores:\n",
    "        print(f\"{feature}: {score}\")\n",
    "    print()"
   ]
  }
 ],
 "metadata": {
  "kernelspec": {
   "display_name": "Python 3 (ipykernel)",
   "language": "python",
   "name": "python3"
  },
  "language_info": {
   "codemirror_mode": {
    "name": "ipython",
    "version": 3
   },
   "file_extension": ".py",
   "mimetype": "text/x-python",
   "name": "python",
   "nbconvert_exporter": "python",
   "pygments_lexer": "ipython3",
   "version": "3.11.4"
  }
 },
 "nbformat": 4,
 "nbformat_minor": 5
}
