{
 "cells": [
  {
   "cell_type": "markdown",
   "source": [
    "# 1. 加载数据"
   ],
   "metadata": {
    "collapsed": false
   },
   "id": "cb26b08db5624288"
  },
  {
   "cell_type": "code",
   "execution_count": 5,
   "id": "initial_id",
   "metadata": {
    "collapsed": true,
    "ExecuteTime": {
     "end_time": "2024-04-06T04:56:39.311068Z",
     "start_time": "2024-04-06T04:56:39.297568Z"
    }
   },
   "outputs": [
    {
     "data": {
      "text/plain": "array([[57.,  5.,  0., ...,  0.,  0.,  0.],\n       [71.,  2.,  2., ...,  0.,  0.,  1.],\n       [64.,  2.,  0., ...,  0.,  0.,  0.],\n       ...,\n       [46.,  4.,  0., ...,  1.,  0.,  0.],\n       [70.,  2.,  1., ...,  0.,  0.,  0.],\n       [60.,  2.,  0., ...,  0.,  0.,  0.]])"
     },
     "execution_count": 5,
     "metadata": {},
     "output_type": "execute_result"
    }
   ],
   "source": [
    "import numpy as np\n",
    "\n",
    "# 加载训练集数据\n",
    "X_train = np.load('../data_set/X_train.npy')\n",
    "\n",
    "X_train  # 输出训练集数据"
   ]
  },
  {
   "cell_type": "code",
   "outputs": [
    {
     "data": {
      "text/plain": "(1000, 111)"
     },
     "execution_count": 6,
     "metadata": {},
     "output_type": "execute_result"
    }
   ],
   "source": [
    "X_train.shape  # 输出训练集大小"
   ],
   "metadata": {
    "collapsed": false,
    "ExecuteTime": {
     "end_time": "2024-04-06T04:56:39.327147Z",
     "start_time": "2024-04-06T04:56:39.312489Z"
    }
   },
   "id": "cbfcd6feae13e032",
   "execution_count": 6
  },
  {
   "cell_type": "markdown",
   "source": [
    "# 2. 统计缺失值"
   ],
   "metadata": {
    "collapsed": false
   },
   "id": "5fa49f5de3067fb9"
  },
  {
   "cell_type": "code",
   "outputs": [
    {
     "data": {
      "text/plain": "array([0.005, 0.   , 0.002, 0.067, 0.046, 0.034, 0.963, 0.005, 0.004,\n       0.153, 0.034, 0.016, 0.016, 0.016, 0.016, 0.016, 0.016, 0.016,\n       0.012, 0.012, 0.012, 0.012, 0.012, 0.012, 0.012, 0.002, 0.002,\n       0.002, 0.003, 0.003, 0.003, 0.003, 0.003, 0.644, 0.644, 0.161,\n       0.161, 0.007, 0.008, 0.009, 0.007, 0.007, 0.007, 0.051, 0.05 ,\n       0.048, 0.043, 0.   , 0.096, 0.096, 0.096, 0.096, 0.096, 0.096,\n       0.069, 0.069, 0.069, 0.069, 0.069, 0.069, 0.069, 0.069, 0.069,\n       0.068, 0.068, 0.068, 0.068, 0.068, 0.068, 0.068, 0.068, 0.068,\n       0.068, 0.068, 0.006, 0.006, 0.006, 0.006, 0.006, 0.006, 0.006,\n       0.201, 0.201, 0.204, 0.204, 0.174, 0.175, 0.998, 0.074, 0.115,\n       0.08 , 0.009, 0.069, 0.08 , 0.371, 0.392, 0.382, 0.003, 0.003,\n       0.068, 0.082, 0.007, 0.069, 0.081, 0.005, 0.004, 0.005, 0.008,\n       0.008, 0.007, 0.007])"
     },
     "execution_count": 7,
     "metadata": {},
     "output_type": "execute_result"
    }
   ],
   "source": [
    "# 计算每个特征的缺失值比例\n",
    "missing_ratio = np.mean(np.isnan(X_train), axis=0)\n",
    "\n",
    "missing_ratio\n"
   ],
   "metadata": {
    "collapsed": false,
    "ExecuteTime": {
     "end_time": "2024-04-06T04:56:39.342634Z",
     "start_time": "2024-04-06T04:56:39.329496Z"
    }
   },
   "id": "4ba8432f7dc07d7d",
   "execution_count": 7
  },
  {
   "cell_type": "markdown",
   "source": [
    "筛选缺失率高于某个阈值(90%)的特征先清理去除，并重新输出清理后的数据集大小"
   ],
   "metadata": {
    "collapsed": false
   },
   "id": "bb9a33d6c1d7ecdd"
  },
  {
   "cell_type": "code",
   "outputs": [
    {
     "data": {
      "text/plain": "(array([ 6, 87], dtype=int64), (1000, 109))"
     },
     "execution_count": 15,
     "metadata": {},
     "output_type": "execute_result"
    }
   ],
   "source": [
    "# 定义高缺失率阈值为90%\n",
    "high_missing_ratio_threshold = 0.9\n",
    "\n",
    "# 标记应删除的特征\n",
    "features_to_drop_high_missing = np.where(missing_ratio > high_missing_ratio_threshold)[0]\n",
    "\n",
    "# 删除高缺失率的特征\n",
    "X_dropped_high_missing = np.delete(X_train, features_to_drop_high_missing, axis=1)\n",
    "\n",
    "# 保存删除高缺失率特征后的数据\n",
    "np.save('../data_set/processed_data_set/X_dropped_90.npy', X_dropped_high_missing)\n",
    "\n",
    "features_to_drop_high_missing, X_dropped_high_missing.shape\n"
   ],
   "metadata": {
    "collapsed": false,
    "ExecuteTime": {
     "end_time": "2024-04-06T05:37:03.527858Z",
     "start_time": "2024-04-06T05:37:03.517041Z"
    }
   },
   "id": "91bddc5754b9c711",
   "execution_count": 15
  },
  {
   "cell_type": "markdown",
   "source": [
    "# 3. 特征类型分类\n",
    "对特征进行分类，离散型和连续型"
   ],
   "metadata": {
    "collapsed": false
   },
   "id": "48e39f1cd1b9cbb5"
  },
  {
   "cell_type": "code",
   "outputs": [
    {
     "data": {
      "text/plain": "(array([  1,   2,   3,   4,   5,   6,   7,   8,   9,  10,  11,  12,  13,\n         14,  15,  16,  17,  18,  19,  20,  21,  22,  23,  24,  25,  26,\n         27,  28,  29,  30,  31,  32,  36,  37,  38,  39,  40,  41,  42,\n         43,  44,  45,  46,  47,  48,  49,  50,  51,  52,  53,  54,  55,\n         56,  57,  58,  59,  60,  61,  62,  63,  64,  65,  66,  67,  68,\n         69,  70,  71,  72,  73,  74,  75,  76,  77,  78,  79,  80,  81,\n         83,  89,  90,  91,  92,  93,  94,  95,  96,  97,  98,  99, 100,\n        101, 102, 103, 104, 105, 106, 107, 108], dtype=int64),\n array([ 0, 33, 34, 35, 82, 84, 85, 86, 87, 88], dtype=int64))"
     },
     "execution_count": 16,
     "metadata": {},
     "output_type": "execute_result"
    }
   ],
   "source": [
    "# 加载删除高缺失率特征后的数据\n",
    "X_train = np.load('../data_set/processed_data_set/X_dropped_90.npy')\n",
    "\n",
    "# 确定每个特征的唯一值数量\n",
    "unique_counts = np.apply_along_axis(lambda col: len(np.unique(col[~np.isnan(col)])), 0, X_dropped_high_missing)\n",
    "\n",
    "# 使用唯一值数量与样本总数的比例来推断特征类型\n",
    "# 设定一个阈值\n",
    "# 如果唯一值占总样本数的比例小于5%是离散型特征，否则是连续型特征\n",
    "threshold_ratio = 0.05\n",
    "discrete_feature_indices = np.where((unique_counts / X_train.shape[0]) < threshold_ratio)[0]\n",
    "continuous_feature_indices = np.where((unique_counts / X_train.shape[0]) >= threshold_ratio)[0]\n",
    "\n",
    "discrete_feature_indices, continuous_feature_indices  # 输出离散型和连续型特征的索引\n"
   ],
   "metadata": {
    "collapsed": false,
    "ExecuteTime": {
     "end_time": "2024-04-06T05:40:37.762868Z",
     "start_time": "2024-04-06T05:40:37.737713Z"
    }
   },
   "id": "75f1a7d5b9848f45",
   "execution_count": 16
  },
  {
   "cell_type": "markdown",
   "source": [
    "离散型特征\n",
    "(array([  1,   2,   3,   4,   5,   6,   7,   8,   9,  10,  11,  12,  13,\n",
    "         14,  15,  16,  17,  18,  19,  20,  21,  22,  23,  24,  25,  26,\n",
    "         27,  28,  29,  30,  31,  32,  36,  37,  38,  39,  40,  41,  42,\n",
    "         43,  44,  45,  46,  47,  48,  49,  50,  51,  52,  53,  54,  55,\n",
    "         56,  57,  58,  59,  60,  61,  62,  63,  64,  65,  66,  67,  68,\n",
    "         69,  70,  71,  72,  73,  74,  75,  76,  77,  78,  79,  80,  81,\n",
    "         83,  89,  90,  91,  92,  93,  94,  95,  96,  97,  98,  99, 100,\n",
    "        101, 102, 103, 104, 105, 106, 107, 108], dtype=int64)\n",
    "连续型特征\n",
    "array([ 0, 33, 34, 35, 82, 84, 85, 86, 87, 88], dtype=int64))\n"
   ],
   "metadata": {
    "collapsed": false
   },
   "id": "c63d70ac9ffb0559"
  },
  {
   "cell_type": "markdown",
   "source": [
    "## 3.1 连续性特征分类为整数型和浮点型"
   ],
   "metadata": {
    "collapsed": false
   },
   "id": "d36ff5ea3924a165"
  },
  {
   "cell_type": "code",
   "outputs": [
    {
     "data": {
      "text/plain": "([0, 33, 34, 35], [82, 84, 85, 86, 87, 88])"
     },
     "execution_count": 17,
     "metadata": {},
     "output_type": "execute_result"
    }
   ],
   "source": [
    "# 初始化列表来保存整数型和浮点型连续特征的索引\n",
    "continuous_integer_indices = []\n",
    "continuous_float_indices = []\n",
    "\n",
    "# 遍历所有连续型特征，检查它们是整数型还是浮点型\n",
    "for index in continuous_feature_indices:\n",
    "    if np.all(np.mod(X_train[:, index][~np.isnan(X_train[:, index])], 1) == 0):\n",
    "        continuous_integer_indices.append(index)\n",
    "    else:\n",
    "        continuous_float_indices.append(index)\n",
    "\n",
    "continuous_integer_indices, continuous_float_indices"
   ],
   "metadata": {
    "collapsed": false,
    "ExecuteTime": {
     "end_time": "2024-04-06T05:41:37.935606Z",
     "start_time": "2024-04-06T05:41:37.917564Z"
    }
   },
   "id": "abaa49243e003e53",
   "execution_count": 17
  },
  {
   "cell_type": "markdown",
   "source": [
    "整数型连续特征\n",
    "[0, 33, 34, 35]\n",
    "浮点型连续特征\n",
    "[82, 84, 85, 86, 87, 88]"
   ],
   "metadata": {
    "collapsed": false
   },
   "id": "dd8c86ec08093dd6"
  },
  {
   "cell_type": "markdown",
   "source": [
    "离散型特征分类可能暂时不需要"
   ],
   "metadata": {
    "collapsed": false
   },
   "id": "61e48bbb44c1c0be"
  },
  {
   "cell_type": "code",
   "outputs": [],
   "source": [
    "# # 初始化列表来保存整数型和浮点型离散特征的索引\n",
    "# discrete_integer_indices = []\n",
    "# discrete_float_indices = []\n",
    "# \n",
    "# # 遍历所有离散型特征，检查它们是整数型还是浮点型\n",
    "# for index in discrete_feature_indices:\n",
    "#     if np.all(np.mod(X_train[:, index][~np.isnan(X_train[:, index])], 1) == 0):\n",
    "#         discrete_integer_indices.append(index)\n",
    "#     else:\n",
    "#         discrete_float_indices.append(index)\n",
    "# \n",
    "# discrete_integer_indices, discrete_float_indices"
   ],
   "metadata": {
    "collapsed": false
   },
   "id": "8ee02d1ff7d3f7d7"
  },
  {
   "cell_type": "markdown",
   "source": [
    "按照这个分类，我们将对缺失值采取不同的填充策略：\n",
    "\n",
    "对于**离散型特征**，我们将使用众数进行填充。\n",
    "对于**连续浮点型特征**，我们将使用均值进行填充。\n",
    "对于**连续整数型特征**，我们也将使用均值进行填充，然后对结果进行四舍五入，以确保填充值保持为整数。"
   ],
   "metadata": {
    "collapsed": false
   },
   "id": "202281813a82cd0d"
  },
  {
   "cell_type": "code",
   "outputs": [
    {
     "data": {
      "text/plain": "0"
     },
     "execution_count": 18,
     "metadata": {},
     "output_type": "execute_result"
    }
   ],
   "source": [
    "from sklearn.impute import SimpleImputer\n",
    "\n",
    "# 对离散型特征使用众数填充\n",
    "imputer_mode = SimpleImputer(strategy='most_frequent')\n",
    "X_train[:, discrete_feature_indices] = imputer_mode.fit_transform(X_train[:, discrete_feature_indices])\n",
    "\n",
    "# 对连续浮点型特征使用均值填充\n",
    "imputer_mean = SimpleImputer(strategy='mean')\n",
    "X_train[:, continuous_float_indices] = imputer_mean.fit_transform(X_train[:, continuous_float_indices])\n",
    "\n",
    "# 对连续整数型特征使用均值填充并四舍五入\n",
    "X_continuous_integer = imputer_mean.fit_transform(X_train[:, continuous_integer_indices])\n",
    "X_train[:, continuous_integer_indices] = np.round(X_continuous_integer)\n",
    "\n",
    "# 验证处理后的数据是否还含有缺失值\n",
    "missing_after_imputation = np.isnan(X_train).sum()\n",
    "\n",
    "missing_after_imputation\n"
   ],
   "metadata": {
    "collapsed": false,
    "ExecuteTime": {
     "end_time": "2024-04-06T05:45:37.869124Z",
     "start_time": "2024-04-06T05:45:36.933416Z"
    }
   },
   "id": "d63b82658df8a640",
   "execution_count": 18
  },
  {
   "cell_type": "code",
   "outputs": [
    {
     "data": {
      "text/plain": "array([[57.,  5.,  0., ...,  0.,  0.,  0.],\n       [71.,  2.,  2., ...,  0.,  0.,  1.],\n       [64.,  2.,  0., ...,  0.,  0.,  0.],\n       ...,\n       [46.,  4.,  0., ...,  1.,  0.,  0.],\n       [70.,  2.,  1., ...,  0.,  0.,  0.],\n       [60.,  2.,  0., ...,  0.,  0.,  0.]])"
     },
     "execution_count": 19,
     "metadata": {},
     "output_type": "execute_result"
    }
   ],
   "source": [
    "X_train  # 输出处理后的数据"
   ],
   "metadata": {
    "collapsed": false,
    "ExecuteTime": {
     "end_time": "2024-04-06T05:47:04.201874Z",
     "start_time": "2024-04-06T05:47:04.188289Z"
    }
   },
   "id": "88f68d98f6876d19",
   "execution_count": 19
  },
  {
   "cell_type": "code",
   "outputs": [],
   "source": [],
   "metadata": {
    "collapsed": false
   },
   "id": "c908ab6bc91b66fd"
  }
 ],
 "metadata": {
  "kernelspec": {
   "display_name": "Python 3",
   "language": "python",
   "name": "python3"
  },
  "language_info": {
   "codemirror_mode": {
    "name": "ipython",
    "version": 2
   },
   "file_extension": ".py",
   "mimetype": "text/x-python",
   "name": "python",
   "nbconvert_exporter": "python",
   "pygments_lexer": "ipython2",
   "version": "2.7.6"
  }
 },
 "nbformat": 4,
 "nbformat_minor": 5
}
