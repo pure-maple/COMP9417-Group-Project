{
 "cells": [
  {
   "cell_type": "code",
   "execution_count": null,
   "id": "abd8d8ee-c8fa-4c79-8a25-94b5e7f21de6",
   "metadata": {},
   "outputs": [],
   "source": [
    "from sklearn.model_selection import train_test_split\n",
    "from sklearn.preprocessing import StandardScaler\n",
    "from sklearn.svm import SVC\n",
    "from sklearn.metrics import accuracy_score\n",
    "import numpy as np\n",
    "\n",
    "# Assuming x_test is your feature matrix (1000 observations, 111 features)\n",
    "# and y_test is your binary target variable (1000 observations)\n",
    "# Replace these with your actual data\n",
    "\n",
    "x_data = np.load('X_train_preprocessed_type_50.npy')\n",
    "y_data = np.load('y_train.npy') \n",
    "\n",
    "for i in range (11):\n",
    "    x_test = x_data\n",
    "    y_test = y_data[:,i]\n",
    "\n",
    "# Split the data into training and testing sets\n",
    "    x_train, x_test, y_train, y_test = train_test_split(x_test, y_test, test_size=0.2, random_state=42)\n",
    "\n",
    "#y_train = y_train[;,4]\n",
    "#y_test = y_test[:,4]\n",
    "\n",
    "# Feature scaling (optional but recommended for SVMs)\n",
    "    scaler = StandardScaler()\n",
    "    x_train_scaled = scaler.fit_transform(x_train)\n",
    "    x_test_scaled = scaler.transform(x_test)\n",
    "\n",
    "# Initialize SVM classifier\n",
    "    svm_classifier = SVC(kernel='linear', random_state=42)  # Linear kernel for binary classification\n",
    "\n",
    "# Train the SVM classifier\n",
    "    svm_classifier.fit(x_train_scaled, y_train)\n",
    "\n",
    "# Make predictions on the test set\n",
    "    y_pred = svm_classifier.predict(x_test_scaled)\n",
    "\n",
    "# Evaluate the model\n",
    "    accuracy = accuracy_score(y_test, y_pred)\n",
    "    print(f\"Accuracy:{i} is\", accuracy)"
   ]
  }
 ],
 "metadata": {
  "kernelspec": {
   "display_name": "Python 3 (ipykernel)",
   "language": "python",
   "name": "python3"
  },
  "language_info": {
   "codemirror_mode": {
    "name": "ipython",
    "version": 3
   },
   "file_extension": ".py",
   "mimetype": "text/x-python",
   "name": "python",
   "nbconvert_exporter": "python",
   "pygments_lexer": "ipython3",
   "version": "3.11.4"
  }
 },
 "nbformat": 4,
 "nbformat_minor": 5
}
