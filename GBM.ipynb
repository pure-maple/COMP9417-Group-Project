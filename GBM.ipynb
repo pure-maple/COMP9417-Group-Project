{
 "cells": [
  {
   "cell_type": "markdown",
   "metadata": {},
   "source": [
    "GBM模型\n",
    "\n",
    "当前使用数据：\n",
    "1. 移除了一元特征值，\n",
    "2. 对二元特征值采用了按众数填充（gpt处理有误），\n",
    "3. 对多元离散特征值采用了众数填充，\n",
    "4. 对多元连续特征值采用了均值填充。\n",
    "\n",
    "当前离散和连续的阈值\n",
    "continuous_threshold = X_train.shape[0] * 0.05  # 假设连续特征至少有1%的唯一值\n",
    "\n",
    "lgb定义了训练10轮，没有处理输出最好的模型结果"
   ]
  },
  {
   "cell_type": "code",
   "execution_count": 8,
   "metadata": {},
   "outputs": [
    {
     "name": "stdout",
     "output_type": "stream",
     "text": [
      "Accuracy for task 1: 0.6950\n",
      "Accuracy for task 2: 0.7850\n",
      "Accuracy for task 3: 0.8050\n",
      "Accuracy for task 4: 0.8100\n",
      "Accuracy for task 5: 0.7850\n",
      "Accuracy for task 6: 0.7450\n",
      "Accuracy for task 7: 0.7450\n",
      "Accuracy for task 8: 0.7850\n",
      "Accuracy for task 9: 0.6000\n",
      "Accuracy for task 10: 0.7500\n",
      "Accuracy for task 11: 0.7300\n"
     ]
    },
    {
     "name": "stderr",
     "output_type": "stream",
     "text": [
      "c:\\Users\\29848\\anaconda3\\envs\\COMP9417\\lib\\site-packages\\sklearn\\impute\\_base.py:555: UserWarning: Skipping features without any observed values: [51]. At least one non-missing value is needed for imputation with strategy='most_frequent'.\n",
      "  warnings.warn(\n",
      "c:\\Users\\29848\\anaconda3\\envs\\COMP9417\\lib\\site-packages\\sklearn\\impute\\_base.py:555: UserWarning: Skipping features without any observed values: [51]. At least one non-missing value is needed for imputation with strategy='most_frequent'.\n",
      "  warnings.warn(\n"
     ]
    }
   ],
   "source": [
    "import numpy as np\n",
    "import pandas as pd\n",
    "from sklearn.model_selection import train_test_split\n",
    "from sklearn.impute import SimpleImputer\n",
    "from sklearn.preprocessing import StandardScaler, OneHotEncoder\n",
    "from sklearn.compose import ColumnTransformer\n",
    "from sklearn.pipeline import Pipeline\n",
    "import lightgbm as lgb\n",
    "from sklearn.multioutput import MultiOutputClassifier\n",
    "from sklearn.metrics import accuracy_score\n",
    "\n",
    "# 加载数据\n",
    "X = np.load('./data_set/X_train.npy')\n",
    "Y = np.load('./data_set/y_train.npy')\n",
    "\n",
    "# 分割数据集\n",
    "X_train, X_test, Y_train, Y_test = train_test_split(X, Y, test_size=0.2, random_state=42)\n",
    "\n",
    "# 定义特征索引\n",
    "binary_features = [8, 11, 13, 14, 15, 17, 19, 20, 22, 24, 25, 26, 27, 28, 29, 30, 38, 39, 40, 41, 42, 47, 48, 49, 50, 52, 53, 54, 55, 56, 57, 58, 59, 60, 62, 63, 64, 65, 67, 68, 69, 70, 71, 72, 73, 74, 75, 76, 78, 79, 81, 87, 94, 95, 96, 97, 105, 106, 107, 108, 109, 110]\n",
    "categorical_features = [1, 2, 3, 4, 7, 9, 10, 37, 43, 44, 45, 46, 82, 84, 91, 92, 93, 98, 99, 100, 101, 102, 103, 104]\n",
    "continuous_features = [0, 34, 35, 36, 83, 85, 88, 89, 90]\n",
    "\n",
    "# 剔除了一元特征值\n",
    "# 剔除了缺失值大于80%的特征: [6, 87]\n",
    "# 剔除了缺失值大于50%的特征: [33, 34]\n",
    "unary_features = [5, 6, 12, 16, 18, 21, 23, 31, 51, 61, 66, 77, 80, 86, 32, 33]\n",
    "\n",
    "binary_features = [f for f in binary_features if f not in unary_features]\n",
    "categorical_features = [f for f in categorical_features if f not in unary_features]\n",
    "continuous_features = [f for f in continuous_features if f not in unary_features]\n",
    "\n",
    "# 创建预处理管道\n",
    "preprocessor = ColumnTransformer(\n",
    "    transformers=[\n",
    "        ('bin', SimpleImputer(strategy='most_frequent'), binary_features),\n",
    "        ('cat', Pipeline([\n",
    "            ('imputer', SimpleImputer(strategy='most_frequent')),\n",
    "            ('encoder', OneHotEncoder(handle_unknown='ignore'))\n",
    "        ]), categorical_features),\n",
    "        ('num', Pipeline([\n",
    "            ('imputer', SimpleImputer(strategy='mean')),\n",
    "            ('scaler', StandardScaler())\n",
    "        ]), continuous_features)\n",
    "    ]\n",
    ")\n",
    "\n",
    "# 完整的处理和训练管道\n",
    "pipeline = Pipeline(steps=[\n",
    "    ('preprocessor', preprocessor),\n",
    "    ('classifier', MultiOutputClassifier(lgb.LGBMClassifier(n_estimators=10, random_state=42, verbose=-1)))\n",
    "])\n",
    "\n",
    "# 训练模型\n",
    "pipeline.fit(X_train, Y_train)\n",
    "\n",
    "# 预测测试集\n",
    "Y_pred = pipeline.predict(X_test)\n",
    "\n",
    "# 评估每个任务的性能\n",
    "accuracies = [accuracy_score(Y_test[:, i], Y_pred[:, i]) for i in range(Y_test.shape[1])]\n",
    "for i, acc in enumerate(accuracies, start=1):\n",
    "    print(f\"Accuracy for task {i}: {acc:.4f}\")\n"
   ]
  },
  {
   "cell_type": "code",
   "execution_count": null,
   "metadata": {},
   "outputs": [],
   "source": [
    "# 定义特征索引\n",
    "# binary_features = [8, 11, 13, 14, 15, 17, 19, 20, 22, 24, 25, 26, 27, 28, 29, 30, 32, 38, 39, 40, 41, 42, 47, 48, 49, 50, 52, 53, 54, 55, 56, 57, 58, 59, 60, 62, 63, 64, 65, 67, 68, 69, 70, 71, 72, 73, 74, 75, 76, 78, 79, 81, 87, 94, 95, 96, 97, 105, 106, 107, 108, 109, 110]\n",
    "# categorical_features = [1, 2, 3, 4, 5, 7, 9, 10, 33, 37, 43, 44, 45, 46, 82, 84, 91, 92, 93, 98, 99, 100, 101, 102, 103, 104]\n",
    "# continuous_features = [0, 34, 35, 36, 83, 85, 86, 88, 89, 90]\n",
    "\n",
    "# 剔除了一元特征值\n",
    "# unary_features = [6, 12, 16, 18, 21, 23, 31, 51, 61, 66, 77, 80]\n"
   ]
  }
 ],
 "metadata": {
  "kernelspec": {
   "display_name": "COMP9417",
   "language": "python",
   "name": "python3"
  },
  "language_info": {
   "codemirror_mode": {
    "name": "ipython",
    "version": 3
   },
   "file_extension": ".py",
   "mimetype": "text/x-python",
   "name": "python",
   "nbconvert_exporter": "python",
   "pygments_lexer": "ipython3",
   "version": "3.8.18"
  }
 },
 "nbformat": 4,
 "nbformat_minor": 2
}
