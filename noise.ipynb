{
 "cells": [
  {
   "cell_type": "code",
   "execution_count": null,
   "id": "54a600d5-b6bb-4e3b-a69f-1ee48716bafb",
   "metadata": {},
   "outputs": [],
   "source": [
    "import pandas as pd\n",
    "import numpy as np\n",
    "\n",
    "# Generate sample data (replace this with your actual dataset)\n",
    "np.random.seed(0)\n",
    "data = np.random.randn(100, 10)  # 100 observations, 10 features\n",
    "\n",
    "# Create a DataFrame from the sample data\n",
    "df = pd.DataFrame(data, columns=[f'Feature_{i+1}' for i in range(10)])\n",
    "\n",
    "# Identify noise in each feature (you can define your own criteria here)\n",
    "# For example, you can consider values outside 1.5 times the IQR as noise\n",
    "Q1 = df.quantile(0.25)\n",
    "Q3 = df.quantile(0.75)\n",
    "IQR = Q3 - Q1\n",
    "noise_threshold = 1\n",
    "is_noise = (df < Q1 - noise_threshold * IQR) | (df > Q3 + noise_threshold * IQR)\n",
    "\n",
    "# Calculate mean value of each feature\n",
    "mean_values = df.mean()\n",
    "\n",
    "# Replace noise with mean value in each feature\n",
    "df_cleaned = df.mask(is_noise, mean_values, axis=1)\n",
    "\n",
    "# Display the cleaned DataFrame\n",
    "print(\"Original DataFrame:\")\n",
    "print(df)\n",
    "print(\"\\nDataFrame with Noise Replaced by Mean:\")\n",
    "print(df_cleaned)\n",
    "\n",
    "\n",
    "plt.figure(figsize=(12, 6))\n",
    "df.boxplot()\n",
    "#plt.savefig(\"test.jpeg\")\n",
    "plt.title('Box Plot of Features')\n",
    "plt.xlabel('Features')\n",
    "plt.ylabel('Values')\n",
    "plt.xticks(rotation=45)  # Rotate x-axis labels for better readability\n",
    "plt.tight_layout()  # Adjust layout to prevent clipping of labels\n",
    "plt.show()\n",
    "\n",
    "plt.figure(figsize=(12, 6))\n",
    "df_cleaned.boxplot()\n",
    "#plt.savefig(\"test.jpeg\")\n",
    "plt.title('Box Plot of Features')\n",
    "plt.xlabel('Features')\n",
    "plt.ylabel('Values')\n",
    "plt.xticks(rotation=45)  # Rotate x-axis labels for better readability\n",
    "plt.tight_layout()  # Adjust layout to prevent clipping of labels\n",
    "plt.show()"
   ]
  }
 ],
 "metadata": {
  "kernelspec": {
   "display_name": "Python 3 (ipykernel)",
   "language": "python",
   "name": "python3"
  },
  "language_info": {
   "codemirror_mode": {
    "name": "ipython",
    "version": 3
   },
   "file_extension": ".py",
   "mimetype": "text/x-python",
   "name": "python",
   "nbconvert_exporter": "python",
   "pygments_lexer": "ipython3",
   "version": "3.11.4"
  }
 },
 "nbformat": 4,
 "nbformat_minor": 5
}
